{
 "cells": [
  {
   "cell_type": "code",
   "execution_count": 4,
   "id": "9b693d6a",
   "metadata": {
    "scrolled": true
   },
   "outputs": [
    {
     "name": "stdout",
     "output_type": "stream",
     "text": [
      "2 \n",
      " Teaching experiences:   Thirteen years of teaching experience as follow: -  \n",
      "1.   Asst. Prof. in Chemistry (temporary ):  Govt. Degree College , Khurai , Sept 1998 - Nov.  \n",
      "      1999  \n",
      "2. Asst. Prof. in Chemistry (regular ):   Career college, Bhopal  (M.P.)  Sept 2002 - Sept.2004  \n",
      "3. Lecturer in Chemistry (temporary ):   Department of chemistry , Dr. H.S. Gour University,                                                                   \n",
      ",         Sagar (M.P.) Sept 2004 - Sept 2010  \n",
      "4. Asst. Prof. in Chemistry (guest)  :   Daulat Ram College,  University of Delhi, Aug 2011  \n",
      ",      - April  2012  \n",
      "5. Asst. Prof. in Chemistry  (adhoc)  :   Shivaji Col lege, University of Delhi, Sept-Dec2011    \n",
      "6. Asst. Prof. in Chemistry (g uest) :   Shyam Lal College, University of Delhi, Delhi J an-, \n",
      "      Apr 2012 , Oct 2012 -Nov 201 2, Aug -Nov2013  \n",
      "7. Asst. Prof in Chemistry (adhoc ):  Shyam Lal College, University of Delhi, Feb 2014 - \n",
      "      Oct 2015   \n",
      " \n",
      "Administrative Expe rience : As School Manager  in New Happy Junior High School, C - 156 \n",
      "Block, Indrapuri, Loni, Ghaziabad ( U.P.) 201102, Nov. 2010 – Sept.2011  \n",
      " \n",
      "Research experience : 4 and 1/2  years of research experience with modern electro -analytical \n",
      "instrumentation and their use for interdisciplinary purposes especially  in clinical and \n",
      "pathological purposes  of human interest .  \n",
      " \n",
      "Field of Interests : Electro -analytical chemical approach to solve problems of latest scientific  \n",
      "computerized  world  with modern lifestyle and unstable environment, which produce some of the \n",
      "prominent cerebrovascular disorders  (CVD) such as strokes,  which have no prehistory or prior \n",
      "indications.  \n",
      " \n",
      "Academic Distinctions : One international and one national published paper  and twelve  \n",
      "International/ National conferences /symposia  attended.  \n",
      " \n",
      "Published Research Papers :  \n",
      "  \n",
      "1. N. Singh, K.S. Pitre, “Polarographic Behavior of Human Plasma Thrombin and Changes \n",
      "in its Anticoagulation Activity through Various Conformations”, Electroanalysis,  2008; \n",
      "20 (12): 1339 -1345.  \n"
     ]
    }
   ],
   "source": [
    "# importing required modules\n",
    "import PyPDF2\n",
    "\n",
    "# creating a pdf file object\n",
    "pdfFileObj = open('example_PDF1.pdf', 'rb')\n",
    "\n",
    "# creating a pdf reader object\n",
    "pdfReader = PyPDF2.PdfReader(pdfFileObj)\n",
    "\n",
    "# printing number of pages in pdf file\n",
    "#print(len(pdfReader.pages))\n",
    "\n",
    "# creating a page object\n",
    "#for i in range(len(pdfReader.pages)):\n",
    "   # print(\"==================================== New Page================================\")\n",
    "pageObj = pdfReader.pages[1]\n",
    "print(pageObj.extract_text())\n",
    "\n",
    "# closing the pdf file object\n",
    "pdfFileObj.close()"
   ]
  },
  {
   "cell_type": "code",
   "execution_count": 1,
   "id": "d3153262",
   "metadata": {},
   "outputs": [
    {
     "name": "stdout",
     "output_type": "stream",
     "text": [
      "Requirement already satisfied: pytesseract in c:\\users\\ali.saeed\\appdata\\local\\anaconda3\\lib\\site-packages (0.3.10)Note: you may need to restart the kernel to use updated packages.\n",
      "\n",
      "Requirement already satisfied: Pillow>=8.0.0 in c:\\users\\ali.saeed\\appdata\\local\\anaconda3\\lib\\site-packages (from pytesseract) (9.4.0)\n",
      "Requirement already satisfied: packaging>=21.3 in c:\\users\\ali.saeed\\appdata\\local\\anaconda3\\lib\\site-packages (from pytesseract) (22.0)\n"
     ]
    }
   ],
   "source": [
    "pip install pytesseract"
   ]
  },
  {
   "cell_type": "code",
   "execution_count": 1,
   "id": "c6501301",
   "metadata": {},
   "outputs": [
    {
     "name": "stdout",
     "output_type": "stream",
     "text": [
      "Requirement already satisfied: pillow in c:\\users\\ali.saeed\\appdata\\local\\anaconda3\\lib\\site-packages (9.4.0)\n",
      "Note: you may need to restart the kernel to use updated packages.\n"
     ]
    }
   ],
   "source": [
    "pip install pillow"
   ]
  },
  {
   "cell_type": "code",
   "execution_count": 6,
   "id": "4899bb1e",
   "metadata": {},
   "outputs": [
    {
     "name": "stdout",
     "output_type": "stream",
     "text": [
      "Requirement already satisfied: pytesseract in c:\\users\\ali.saeed\\appdata\\local\\anaconda3\\lib\\site-packages (0.3.10)\n",
      "Requirement already satisfied: pillow in c:\\users\\ali.saeed\\appdata\\local\\anaconda3\\lib\\site-packages (9.4.0)\n",
      "Requirement already satisfied: packaging>=21.3 in c:\\users\\ali.saeed\\appdata\\local\\anaconda3\\lib\\site-packages (from pytesseract) (22.0)\n",
      "Note: you may need to restart the kernel to use updated packages.\n"
     ]
    }
   ],
   "source": [
    "pip install pytesseract pillow"
   ]
  },
  {
   "cell_type": "code",
   "execution_count": 6,
   "id": "b827e9de",
   "metadata": {},
   "outputs": [
    {
     "name": "stdout",
     "output_type": "stream",
     "text": [
      "Hollo How are you?|\n",
      "\n",
      "What are you doing here\n",
      "\n",
      "ello)\n",
      "\n"
     ]
    }
   ],
   "source": [
    "from PIL import Image\n",
    "import pytesseract\n",
    "pytesseract.pytesseract.tesseract_cmd = r'C:\\Program Files\\Tesseract-OCR\\tesseract.exe'\n",
    "print(pytesseract.image_to_string(Image.open('4.png')))"
   ]
  }
 ],
 "metadata": {
  "kernelspec": {
   "display_name": "Python 3 (ipykernel)",
   "language": "python",
   "name": "python3"
  },
  "language_info": {
   "codemirror_mode": {
    "name": "ipython",
    "version": 3
   },
   "file_extension": ".py",
   "mimetype": "text/x-python",
   "name": "python",
   "nbconvert_exporter": "python",
   "pygments_lexer": "ipython3",
   "version": "3.10.9"
  }
 },
 "nbformat": 4,
 "nbformat_minor": 5
}
